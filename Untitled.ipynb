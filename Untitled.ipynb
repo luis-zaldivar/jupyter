{
 "cells": [
  {
   "cell_type": "code",
   "execution_count": null,
   "metadata": {},
   "outputs": [],
   "source": [
    "def funcion(x,y):\n",
    "    z=(1+(x+y+1)**2*(19-14*x+3*x**2-14*y+6*x*y)+3*y**2)*30+(2*x-3*y)**2*(18-32*x+12*x**2+48*y-36*X*y+27y**2)\n",
    "    return z\n",
    "\n",
    "datos=[]\n",
    "\n"
   ]
  }
 ],
 "metadata": {
  "kernelspec": {
   "display_name": "Python 3",
   "language": "python",
   "name": "python3"
  },
  "language_info": {
   "codemirror_mode": {
    "name": "ipython",
    "version": 3
   },
   "file_extension": ".py",
   "mimetype": "text/x-python",
   "name": "python",
   "nbconvert_exporter": "python",
   "pygments_lexer": "ipython3",
   "version": "3.7.3"
  }
 },
 "nbformat": 4,
 "nbformat_minor": 4
}
