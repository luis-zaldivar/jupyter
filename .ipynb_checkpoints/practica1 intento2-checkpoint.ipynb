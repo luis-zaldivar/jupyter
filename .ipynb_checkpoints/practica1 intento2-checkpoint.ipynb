{
 "cells": [
  {
   "cell_type": "code",
   "execution_count": 2,
   "metadata": {},
   "outputs": [
    {
     "name": "stdout",
     "output_type": "stream",
     "text": [
      "Las soluciones de la ecuación son:\n",
      "-0.21525043702153024\n",
      "1.5485837703548635\n"
     ]
    },
    {
     "data": {
      "image/png": "[encoded data removed]",
      "text/plain": [
       "<Figure size 432x288 with 1 Axes>"
      ]
     },
     "metadata": {
      "needs_background": "light"
     },
     "output_type": "display_data"
    },
    {
     "name": "stdout",
     "output_type": "stream",
     "text": [
      "el punto mas alto esta en la posicion 1.5000000000000002 y el maximo es -2.374999999999999\n",
      "el punto mas bajo esta en la posicion -0.20000000000000104 y el minimo es -5.112\n"
     ]
    }
   ],
   "source": [
    "import numpy as np\n",
    "from math import sqrt\n",
    "from matplotlib import pyplot\n",
    "def f(x):\n",
    "    return -1*(x**3)+2*(x**2)+x-5#funcion f(x)\n",
    "B=4\n",
    "A=-3\n",
    "C=1\n",
    "if ((B**2)-4*A*C) < 0:\n",
    "    print(\"La solución de la ecuación es con numeros complejos\")\n",
    "else:\n",
    "    x1 = (-B+sqrt(B**2-(4*A*C)))/(2*A)  # Fórmula de Bhaskara parte positiva\n",
    "    x2 = (-B-sqrt(B**2-(4*A*C)))/(2*A)  # Fórmula de Bhaskara parte negativa\n",
    "    print(\"Las soluciones de la ecuación son:\")\n",
    "    print(x1)#primer resultado con base el el criterio de la primera derivada\n",
    "    print(x2)#segund resultado con base el el criterio de la primera derivada\n",
    "x=np.arange(-4.5,4.5,0.05)#para suavisar la curva\n",
    "pyplot.plot(x,[f(i) for i in x])#para la grafica\n",
    "pyplot.axhline(0.001,marker='+', linestyle=':', color='r')#para dibujar el eje x\n",
    "pyplot.axvline(0.001,marker='+', linestyle=':', color='r')#para dibujar el eje y\n",
    "pyplot.xlim(x1, x2)#limites del eje x\n",
    "pyplot.ylim(-10, 10)#limites del eje y\n",
    "pyplot.savefig(\"función_lineal1.png\")#para exportar una imagen de la grafica\n",
    "pyplot.show()#para mostrar la grafica\n",
    "#maximo\n",
    "posicion=-.5\n",
    "vmax=f(-.5)\n",
    "i=-.5\n",
    "while i<=2:\n",
    "    if f(i)>vmax:\n",
    "        vmax=f(i)\n",
    "        posicion=i\n",
    "        \n",
    "    i=i+0.1\n",
    "print(\"el punto mas alto esta en la posicion \"+str(posicion)+\" y el maximo es \"+str(vmax))\n",
    "#minimo\n",
    "posicion=-5\n",
    "vmin=f(-5)\n",
    "i=-5\n",
    "while i<=x2:\n",
    "    if f(i)<vmin:\n",
    "        vmin=f(i)\n",
    "        posicion=i\n",
    "    i=i+0.1\n",
    "print(\"el punto mas bajo esta en la posicion \"+str(posicion)+\" y el minimo es \"+str(vmin))"
   ]
  },
  {
   "cell_type": "code",
   "execution_count": null,
   "metadata": {},
   "outputs": [],
   "source": []
  },
  {
   "cell_type": "code",
   "execution_count": null,
   "metadata": {},
   "outputs": [],
   "source": []
  }
 ],
 "metadata": {
  "kernelspec": {
   "display_name": "Python 3",
   "language": "python",
   "name": "python3"
  },
  "language_info": {
   "codemirror_mode": {
    "name": "ipython",
    "version": 3
   },
   "file_extension": ".py",
   "mimetype": "text/x-python",
   "name": "python",
   "nbconvert_exporter": "python",
   "pygments_lexer": "ipython3",
   "version": "3.7.3"
  }
 },
 "nbformat": 4,
 "nbformat_minor": 4
}
