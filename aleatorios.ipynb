{
 "cells": [
  {
   "cell_type": "code",
   "execution_count": 21,
   "metadata": {},
   "outputs": [
    {
     "name": "stdout",
     "output_type": "stream",
     "text": [
      "dame el numero de aleatorios que quieres10\n",
      "24\n",
      "9\n",
      "12\n",
      "43\n",
      "78\n",
      "18\n",
      "75\n",
      "59\n",
      "39\n",
      "51\n"
     ]
    }
   ],
   "source": [
    "import random\n",
    "\n",
    "def aleatorios(n):\n",
    "    for i in range(n):\n",
    "        print(random.randrange(100))\n",
    "n=int(input(\"dame el numero de aleatorios que quieres\"))\n",
    "aleatorios(n)\n",
    "        \n",
    "\n",
    "\n"
   ]
  },
  {
   "cell_type": "code",
   "execution_count": null,
   "metadata": {},
   "outputs": [],
   "source": [
    "\n",
    "        while m==p:\n",
    "            m=randint(0,9)"
   ]
  },
  {
   "cell_type": "code",
   "execution_count": null,
   "metadata": {},
   "outputs": [],
   "source": []
  }
 ],
 "metadata": {
  "kernelspec": {
   "display_name": "Python 3",
   "language": "python",
   "name": "python3"
  },
  "language_info": {
   "codemirror_mode": {
    "name": "ipython",
    "version": 3
   },
   "file_extension": ".py",
   "mimetype": "text/x-python",
   "name": "python",
   "nbconvert_exporter": "python",
   "pygments_lexer": "ipython3",
   "version": "3.7.3"
  }
 },
 "nbformat": 4,
 "nbformat_minor": 4
}
