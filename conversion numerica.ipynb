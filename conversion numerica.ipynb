{
 "cells": [
  {
   "cell_type": "code",
   "execution_count": 7,
   "metadata": {},
   "outputs": [
    {
     "name": "stdout",
     "output_type": "stream",
     "text": [
      "1\n",
      "2\n",
      "3\n",
      "4\n",
      "[9, 14, 19, 24]\n",
      "[9, 14, 19, 24]\n",
      "[9, 14, 19, 24]\n",
      "[9, 14, 19, 24]\n",
      "[9, 14, 19, 24]\n",
      "24\n",
      "11000\n"
     ]
    }
   ],
   "source": [
    "def f(x):\n",
    "    return (x)\n",
    "    \n",
    "    \n",
    "def conversion(decimal):\n",
    "    binario=''\n",
    "    while decimal //2!=0:\n",
    "        binario=str(decimal % 2)+binario\n",
    "        decimal=decimal//2\n",
    "    return str(decimal)+binario\n",
    "    \n",
    "\n",
    "\"\"\"def cambio_base(decimal,base):\n",
    "    conversion=''\n",
    "    while decimal //base!=0:\n",
    "        conversion=str(decimal%base)+conversion\n",
    "        decimal=decimal //base\n",
    "    return str(decimal)+conversion\n",
    "\"\"\" \n",
    "x=[]\n",
    "y=[]\n",
    "z=[]\n",
    "for i in range (1,5):\n",
    "    x=i\n",
    "    y=i+1\n",
    "    print(x)\n",
    "    z.append(x+(4*y))\n",
    "for j in range(5):\n",
    "    print(z)\n",
    "print(z[3])\n",
    "n=conversion(z[3])\n",
    "\n",
    "print(n)\n",
    "\n",
    "    \n",
    "#numero=int(input('introduce el numero a convertir'))\n",
    "#base=int(input('introduce la base '))\n",
    "#print(conversion(numero))\n",
    "#print(cambio_base(numero,base))"
   ]
  },
  {
   "cell_type": "code",
   "execution_count": null,
   "metadata": {},
   "outputs": [],
   "source": []
  },
  {
   "cell_type": "code",
   "execution_count": null,
   "metadata": {},
   "outputs": [],
   "source": []
  }
 ],
 "metadata": {
  "kernelspec": {
   "display_name": "Python 3",
   "language": "python",
   "name": "python3"
  },
  "language_info": {
   "codemirror_mode": {
    "name": "ipython",
    "version": 3
   },
   "file_extension": ".py",
   "mimetype": "text/x-python",
   "name": "python",
   "nbconvert_exporter": "python",
   "pygments_lexer": "ipython3",
   "version": "3.7.3"
  }
 },
 "nbformat": 4,
 "nbformat_minor": 4
}
